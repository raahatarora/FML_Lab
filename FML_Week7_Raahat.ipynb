{
 "cells": [
  {
   "cell_type": "code",
   "execution_count": 1,
   "id": "ca3b0e58",
   "metadata": {},
   "outputs": [],
   "source": [
    "import pandas as pd\n",
    "import numpy as np\n",
    "from sklearn.model_selection import train_test_split, GridSearchCV\n",
    "from sklearn.tree import DecisionTreeClassifier, export_text, export_graphviz\n",
    "from sklearn.preprocessing import LabelEncoder\n",
    "import graphviz"
   ]
  },
  {
   "cell_type": "code",
   "execution_count": 2,
   "id": "01118074",
   "metadata": {},
   "outputs": [],
   "source": [
    "# Load the German Credit Data\n",
    "df = pd.read_csv(\"German Credit Data.csv\")"
   ]
  },
  {
   "cell_type": "code",
   "execution_count": 3,
   "id": "f817d54d",
   "metadata": {},
   "outputs": [],
   "source": [
    "# Encode categorical features using LabelEncoder\n",
    "df_encoded = df.copy()\n",
    "label_encoders = {}\n",
    "for col in df.select_dtypes(include=['object']).columns:\n",
    "    le = LabelEncoder()\n",
    "    df_encoded[col] = le.fit_transform(df[col])\n",
    "    label_encoders[col] = le"
   ]
  },
  {
   "cell_type": "code",
   "execution_count": 4,
   "id": "fb1910dc",
   "metadata": {},
   "outputs": [],
   "source": [
    "# Define features and target (target: \"status\" where 1 = Good Credit, 0 = Bad Credit)\n",
    "X = df_encoded.drop(columns=[\"status\"])\n",
    "y = df_encoded[\"status\"]"
   ]
  },
  {
   "cell_type": "code",
   "execution_count": 5,
   "id": "3f7e7d65",
   "metadata": {},
   "outputs": [],
   "source": [
    "# Split data (80% training, 20% testing)\n",
    "X_train, X_test, y_train, y_test = train_test_split(X, y, test_size=0.2, random_state=42, stratify=y)\n",
    " "
   ]
  },
  {
   "cell_type": "code",
   "execution_count": 6,
   "id": "f425c7a8",
   "metadata": {},
   "outputs": [],
   "source": [
    "# Set up hyperparameter grid for grid search\n",
    "param_grid = {\n",
    "    \"criterion\": [\"gini\", \"entropy\"],\n",
    "    \"max_depth\": np.arange(2, 11)\n",
    "}"
   ]
  },
  {
   "cell_type": "code",
   "execution_count": 7,
   "id": "a8ac6a77",
   "metadata": {},
   "outputs": [
    {
     "data": {
      "text/plain": [
       "GridSearchCV(cv=10, estimator=DecisionTreeClassifier(random_state=42),\n",
       "             n_jobs=-1,\n",
       "             param_grid={'criterion': ['gini', 'entropy'],\n",
       "                         'max_depth': array([ 2,  3,  4,  5,  6,  7,  8,  9, 10])},\n",
       "             scoring='roc_auc')"
      ]
     },
     "execution_count": 7,
     "metadata": {},
     "output_type": "execute_result"
    }
   ],
   "source": [
    "# Initialize Decision Tree Classifier and GridSearchCV with 10-fold CV using ROC AUC score\n",
    "dt = DecisionTreeClassifier(random_state=42)\n",
    "grid_search = GridSearchCV(dt, param_grid, cv=10, scoring=\"roc_auc\", n_jobs=-1)\n",
    "grid_search.fit(X_train, y_train)"
   ]
  },
  {
   "cell_type": "code",
   "execution_count": 8,
   "id": "38b083e1",
   "metadata": {},
   "outputs": [
    {
     "name": "stdout",
     "output_type": "stream",
     "text": [
      "Best Parameters for German Credit Data: {'criterion': 'entropy', 'max_depth': 3}\n",
      "Best ROC AUC Score (CV): 0.7207217261904761\n"
     ]
    }
   ],
   "source": [
    "# Best hyperparameters and ROC AUC score\n",
    "best_params = grid_search.best_params_\n",
    "best_score = grid_search.best_score_\n",
    "print(\"Best Parameters for German Credit Data:\", best_params)\n",
    "print(\"Best ROC AUC Score (CV):\", best_score)"
   ]
  },
  {
   "cell_type": "code",
   "execution_count": 9,
   "id": "b7d8bf3b",
   "metadata": {},
   "outputs": [
    {
     "data": {
      "text/plain": [
       "DecisionTreeClassifier(criterion='entropy', max_depth=3, random_state=42)"
      ]
     },
     "execution_count": 9,
     "metadata": {},
     "output_type": "execute_result"
    }
   ],
   "source": [
    "# Fit the best estimator on the training set\n",
    "best_dt = grid_search.best_estimator_\n",
    "best_dt.fit(X_train, y_train)"
   ]
  },
  {
   "cell_type": "code",
   "execution_count": 10,
   "id": "5e018e1c",
   "metadata": {},
   "outputs": [],
   "source": [
    "# --- Visualization using graphviz ---\n",
    "# Generate DOT data for the tree visualization\n",
    "dot_data = export_graphviz(\n",
    "    best_dt, \n",
    "    out_file=None,\n",
    "    feature_names=X.columns,\n",
    "    class_names=['Bad Credit', 'Good Credit'],\n",
    "    filled=True, rounded=True,\n",
    "    special_characters=True\n",
    ")\n",
    "graph = graphviz.Source(dot_data)"
   ]
  },
  {
   "cell_type": "code",
   "execution_count": 11,
   "id": "8543c56a",
   "metadata": {},
   "outputs": [
    {
     "name": "stdout",
     "output_type": "stream",
     "text": [
      "\n",
      "Text Representation of Decision Rules:\n",
      "\n",
      "|--- checkin_acc <= 1.50\n",
      "|   |--- duration <= 22.50\n",
      "|   |   |--- credit_history <= 1.50\n",
      "|   |   |   |--- class: 1\n",
      "|   |   |--- credit_history >  1.50\n",
      "|   |   |   |--- class: 0\n",
      "|   |--- duration >  22.50\n",
      "|   |   |--- savings_acc <= 2.50\n",
      "|   |   |   |--- class: 1\n",
      "|   |   |--- savings_acc >  2.50\n",
      "|   |   |   |--- class: 0\n",
      "|--- checkin_acc >  1.50\n",
      "|   |--- inst_plans <= 0.50\n",
      "|   |   |--- amount <= 3741.00\n",
      "|   |   |   |--- class: 0\n",
      "|   |   |--- amount >  3741.00\n",
      "|   |   |   |--- class: 1\n",
      "|   |--- inst_plans >  0.50\n",
      "|   |   |--- present_emp_since <= 2.50\n",
      "|   |   |   |--- class: 0\n",
      "|   |   |--- present_emp_since >  2.50\n",
      "|   |   |   |--- class: 0\n",
      "\n"
     ]
    }
   ],
   "source": [
    "# Display text representation of the decision rules\n",
    "tree_rules = export_text(best_dt, feature_names=list(X.columns))\n",
    "print(\"\\nText Representation of Decision Rules:\\n\")\n",
    "print(tree_rules)"
   ]
  },
  {
   "cell_type": "code",
   "execution_count": 12,
   "id": "28a8bf80",
   "metadata": {},
   "outputs": [
    {
     "name": "stdout",
     "output_type": "stream",
     "text": [
      "digraph Tree {\n",
      "node [shape=box, style=\"filled, rounded\", color=\"black\", fontname=\"helvetica\"] ;\n",
      "edge [fontname=\"helvetica\"] ;\n",
      "0 [label=<checkin_acc &le; 1.5<br/>entropy = 0.881<br/>samples = 800<br/>value = [560, 240]<br/>class = Bad Credit>, fillcolor=\"#f0b78e\"] ;\n",
      "1 [label=<duration &le; 22.5<br/>entropy = 0.988<br/>samples = 433<br/>value = [244, 189]<br/>class = Bad Credit>, fillcolor=\"#f9e3d2\"] ;\n",
      "0 -> 1 [labeldistance=2.5, labelangle=45, headlabel=\"True\"] ;\n",
      "2 [label=<credit_history &le; 1.5<br/>entropy = 0.928<br/>samples = 242<br/>value = [159, 83]<br/>class = Bad Credit>, fillcolor=\"#f3c3a0\"] ;\n",
      "1 -> 2 ;\n",
      "3 [label=<entropy = 0.863<br/>samples = 21<br/>value = [6, 15]<br/>class = Good Credit>, fillcolor=\"#88c4ef\"] ;\n",
      "2 -> 3 ;\n",
      "4 [label=<entropy = 0.89<br/>samples = 221<br/>value = [153, 68]<br/>class = Bad Credit>, fillcolor=\"#f1b991\"] ;\n",
      "2 -> 4 ;\n",
      "5 [label=<savings_acc &le; 2.5<br/>entropy = 0.991<br/>samples = 191<br/>value = [85, 106]<br/>class = Good Credit>, fillcolor=\"#d8ecfa\"] ;\n",
      "1 -> 5 ;\n",
      "6 [label=<entropy = 0.951<br/>samples = 154<br/>value = [57, 97]<br/>class = Good Credit>, fillcolor=\"#add7f4\"] ;\n",
      "5 -> 6 ;\n",
      "7 [label=<entropy = 0.8<br/>samples = 37<br/>value = [28, 9]<br/>class = Bad Credit>, fillcolor=\"#edaa79\"] ;\n",
      "5 -> 7 ;\n",
      "8 [label=<inst_plans &le; 0.5<br/>entropy = 0.582<br/>samples = 367<br/>value = [316, 51]<br/>class = Bad Credit>, fillcolor=\"#e99559\"] ;\n",
      "0 -> 8 [labeldistance=2.5, labelangle=-45, headlabel=\"False\"] ;\n",
      "9 [label=<amount &le; 3741.0<br/>entropy = 0.954<br/>samples = 40<br/>value = [25, 15]<br/>class = Bad Credit>, fillcolor=\"#f5cdb0\"] ;\n",
      "8 -> 9 ;\n",
      "10 [label=<entropy = 0.85<br/>samples = 29<br/>value = [21, 8]<br/>class = Bad Credit>, fillcolor=\"#efb184\"] ;\n",
      "9 -> 10 ;\n",
      "11 [label=<entropy = 0.946<br/>samples = 11<br/>value = [4, 7]<br/>class = Good Credit>, fillcolor=\"#aad5f4\"] ;\n",
      "9 -> 11 ;\n",
      "12 [label=<present_emp_since &le; 2.5<br/>entropy = 0.5<br/>samples = 327<br/>value = [291, 36]<br/>class = Bad Credit>, fillcolor=\"#e89151\"] ;\n",
      "8 -> 12 ;\n",
      "13 [label=<entropy = 0.628<br/>samples = 178<br/>value = [150, 28]<br/>class = Bad Credit>, fillcolor=\"#ea995e\"] ;\n",
      "12 -> 13 ;\n",
      "14 [label=<entropy = 0.302<br/>samples = 149<br/>value = [141, 8]<br/>class = Bad Credit>, fillcolor=\"#e68844\"] ;\n",
      "12 -> 14 ;\n",
      "}\n"
     ]
    }
   ],
   "source": [
    " \n",
    "# Generate DOT data as a string (instead of writing to file)\n",
    "dot_data = export_graphviz(\n",
    "    best_dt, \n",
    "    out_file=None,  # This tells the function to return a string\n",
    "    feature_names=X.columns,\n",
    "    class_names=['Bad Credit', 'Good Credit'],\n",
    "    filled=True, rounded=True,\n",
    "    special_characters=True\n",
    ")\n",
    "print(dot_data)"
   ]
  },
  {
   "cell_type": "markdown",
   "id": "86692401",
   "metadata": {},
   "source": [
    "<img src=\"Tree.png\" width = 600 height=500>"
   ]
  },
  {
   "cell_type": "code",
   "execution_count": null,
   "id": "88e3ce32",
   "metadata": {},
   "outputs": [],
   "source": []
  }
 ],
 "metadata": {
  "kernelspec": {
   "display_name": "Python 3 (ipykernel)",
   "language": "python",
   "name": "python3"
  },
  "language_info": {
   "codemirror_mode": {
    "name": "ipython",
    "version": 3
   },
   "file_extension": ".py",
   "mimetype": "text/x-python",
   "name": "python",
   "nbconvert_exporter": "python",
   "pygments_lexer": "ipython3",
   "version": "3.9.13"
  }
 },
 "nbformat": 4,
 "nbformat_minor": 5
}
